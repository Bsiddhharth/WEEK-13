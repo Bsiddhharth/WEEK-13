{
 "cells": [
  {
   "cell_type": "code",
   "execution_count": 1,
   "id": "e33588d6",
   "metadata": {},
   "outputs": [
    {
     "name": "stdout",
     "output_type": "stream",
     "text": [
      "[1, 'added', 2, 3, 4]\n"
     ]
    }
   ],
   "source": [
    "# list is mutable, changable, ordered, allow duplicate values\n",
    "l=[1,2,3,4]\n",
    "l.insert(1,\"added\")\n",
    "print(l)"
   ]
  },
  {
   "cell_type": "code",
   "execution_count": 2,
   "id": "8e0f6aee",
   "metadata": {},
   "outputs": [
    {
     "name": "stdout",
     "output_type": "stream",
     "text": [
      "[1, 'added', 2, 3, 4, 4]\n"
     ]
    }
   ],
   "source": [
    "l.append(4)\n",
    "print(l)"
   ]
  },
  {
   "cell_type": "code",
   "execution_count": 3,
   "id": "641b7833",
   "metadata": {},
   "outputs": [
    {
     "name": "stdout",
     "output_type": "stream",
     "text": [
      "[4, 5, 2, 1]\n",
      "[1, 2, 4, 5]\n"
     ]
    }
   ],
   "source": [
    "n=[4,5,2,1]\n",
    "# n.sort()\n",
    "m=sorted(n)\n",
    "\n",
    "print(n)\n",
    "print(m)"
   ]
  },
  {
   "cell_type": "code",
   "execution_count": 4,
   "id": "b3338d7d",
   "metadata": {},
   "outputs": [
    {
     "name": "stdout",
     "output_type": "stream",
     "text": [
      "0 1\n",
      "1 added\n",
      "2 2\n",
      "3 3\n",
      "4 4\n",
      "5 4\n"
     ]
    }
   ],
   "source": [
    "for i,j in enumerate(l):\n",
    "    print(i,j)"
   ]
  },
  {
   "cell_type": "code",
   "execution_count": 5,
   "id": "4bca51a1",
   "metadata": {},
   "outputs": [
    {
     "name": "stdout",
     "output_type": "stream",
     "text": [
      "item: item 1 , price: 23\n",
      "item: item 2 , price: 433\n",
      "item: item 3 , price: 12\n",
      "item: Item 4 , price: 67\n"
     ]
    }
   ],
   "source": [
    "item=[\"item 1\",\"item 2\",\"item 3\",\"Item 4\"]\n",
    "cost=[23,433,12,67]\n",
    "\n",
    "for i,j in zip(item,cost):\n",
    "    print(f\"item: {i} , price: {j}\")"
   ]
  },
  {
   "cell_type": "code",
   "execution_count": 6,
   "id": "512d7677",
   "metadata": {},
   "outputs": [
    {
     "name": "stdout",
     "output_type": "stream",
     "text": [
      "True\n",
      "False\n",
      "True\n"
     ]
    }
   ],
   "source": [
    "print(23 in cost)\n",
    "print(32 in item)\n",
    "print(32 not in item)"
   ]
  },
  {
   "cell_type": "code",
   "execution_count": 7,
   "id": "aa93c43d",
   "metadata": {},
   "outputs": [
    {
     "name": "stdout",
     "output_type": "stream",
     "text": [
      "item 1\n",
      "Item 4\n"
     ]
    }
   ],
   "source": [
    "i1,i2,i3,i4=item\n",
    "print(i1)\n",
    "print(i4)"
   ]
  },
  {
   "cell_type": "code",
   "execution_count": 8,
   "id": "3fd0348f",
   "metadata": {},
   "outputs": [
    {
     "name": "stdout",
     "output_type": "stream",
     "text": [
      "1 2\n"
     ]
    }
   ],
   "source": [
    "a,b=1,2\n",
    "print(a,b)"
   ]
  },
  {
   "cell_type": "code",
   "execution_count": 9,
   "id": "d8092c97",
   "metadata": {},
   "outputs": [
    {
     "name": "stdout",
     "output_type": "stream",
     "text": [
      "2\n",
      "1\n"
     ]
    }
   ],
   "source": [
    "a,b=b,a\n",
    "print(a)\n",
    "print(b)"
   ]
  },
  {
   "cell_type": "code",
   "execution_count": 10,
   "id": "8f1ef916",
   "metadata": {},
   "outputs": [
    {
     "name": "stdout",
     "output_type": "stream",
     "text": [
      "3\n"
     ]
    }
   ],
   "source": [
    "print(item.index(\"Item 4\"))"
   ]
  },
  {
   "cell_type": "code",
   "execution_count": 11,
   "id": "23326494",
   "metadata": {},
   "outputs": [
    {
     "name": "stdout",
     "output_type": "stream",
     "text": [
      "[11, 22, 44]\n"
     ]
    }
   ],
   "source": [
    "a=[11,22,33,44]\n",
    "del a[2]\n",
    "print(a)"
   ]
  },
  {
   "cell_type": "code",
   "execution_count": 12,
   "id": "d7fecd66",
   "metadata": {},
   "outputs": [],
   "source": [
    "a.remove(22)"
   ]
  },
  {
   "cell_type": "code",
   "execution_count": 13,
   "id": "4bd02918",
   "metadata": {},
   "outputs": [
    {
     "name": "stdout",
     "output_type": "stream",
     "text": [
      "[11, 44]\n"
     ]
    }
   ],
   "source": [
    "print(a)"
   ]
  },
  {
   "cell_type": "code",
   "execution_count": 14,
   "id": "ac572fab",
   "metadata": {},
   "outputs": [],
   "source": [
    "#pop to pop from last\n"
   ]
  },
  {
   "cell_type": "code",
   "execution_count": 15,
   "id": "0a6ef7ca",
   "metadata": {},
   "outputs": [],
   "source": [
    "# Tuples are ordered, immutable ie unchangable, allow duplicate values, more memory efficient"
   ]
  },
  {
   "cell_type": "code",
   "execution_count": 16,
   "id": "5ded1cc4",
   "metadata": {},
   "outputs": [
    {
     "name": "stdout",
     "output_type": "stream",
     "text": [
      "3\n",
      "('2', '3')\n"
     ]
    },
    {
     "data": {
      "text/plain": [
       "4"
      ]
     },
     "execution_count": 16,
     "metadata": {},
     "output_type": "execute_result"
    }
   ],
   "source": [
    "q=('1','2','3',4)\n",
    "print(q[2])\n",
    "print(q[1:3])\n",
    "len(q)"
   ]
  },
  {
   "cell_type": "code",
   "execution_count": 17,
   "id": "146f52a1",
   "metadata": {},
   "outputs": [
    {
     "data": {
      "text/plain": [
       "[1, '2']"
      ]
     },
     "execution_count": 17,
     "metadata": {},
     "output_type": "execute_result"
    }
   ],
   "source": [
    "# converting list and tuple\n",
    "tuple(['1',2])\n",
    "list((1,'2'))\n"
   ]
  },
  {
   "cell_type": "code",
   "execution_count": 18,
   "id": "453fc57e",
   "metadata": {},
   "outputs": [
    {
     "data": {
      "text/plain": [
       "['h', 'e', 'l', 'o']"
      ]
     },
     "execution_count": 18,
     "metadata": {},
     "output_type": "execute_result"
    }
   ],
   "source": [
    "\n",
    "list('helo')"
   ]
  },
  {
   "cell_type": "code",
   "execution_count": 19,
   "id": "72d76cd3",
   "metadata": {},
   "outputs": [
    {
     "data": {
      "text/plain": [
       "('h', 'e', 'l', 'o')"
      ]
     },
     "execution_count": 19,
     "metadata": {},
     "output_type": "execute_result"
    }
   ],
   "source": [
    "tuple('helo')"
   ]
  },
  {
   "cell_type": "code",
   "execution_count": 23,
   "id": "1efb9937",
   "metadata": {},
   "outputs": [
    {
     "name": "stdout",
     "output_type": "stream",
     "text": [
      "no 3\n",
      "item 33\n"
     ]
    }
   ],
   "source": [
    "item={\n",
    "   'no': [1,2,3],\n",
    "    'item':[11,22,33]\n",
    "}\n",
    "for i,j in item.items():\n",
    "    for k in j:\n",
    "        if k==max(j):\n",
    "            print(i,k)"
   ]
  },
  {
   "cell_type": "code",
   "execution_count": 21,
   "id": "8e8656ce",
   "metadata": {},
   "outputs": [
    {
     "name": "stdout",
     "output_type": "stream",
     "text": [
      "k3\n"
     ]
    }
   ],
   "source": [
    "# returning the key of largest element\n",
    "test={\n",
    "    'k1':1,\n",
    "    'k2':123,\n",
    "    'k3':149,\n",
    "    'k4':13,\n",
    "    \n",
    "}\n",
    "\n",
    "\n",
    "for i,j in test.items():\n",
    "    if j==max(test.values()):\n",
    "        print (i)\n",
    "    \n",
    "    "
   ]
  },
  {
   "cell_type": "code",
   "execution_count": 32,
   "id": "473ace4f",
   "metadata": {},
   "outputs": [
    {
     "name": "stdout",
     "output_type": "stream",
     "text": [
      "0\n",
      "149\n"
     ]
    }
   ],
   "source": [
    "print(test.get('k33',0))\n",
    "print(test.get('k3'))"
   ]
  },
  {
   "cell_type": "code",
   "execution_count": 33,
   "id": "ff203ac3",
   "metadata": {},
   "outputs": [
    {
     "name": "stdout",
     "output_type": "stream",
     "text": [
      "{'a': 1, 'b': 77, 'c': 22}\n"
     ]
    }
   ],
   "source": [
    "# merging two dictionaries\n",
    "d1={'a':1,'b':2}\n",
    "d2={'c':22,'b':77}\n",
    "d3={**d1,**d2}\n",
    "print(d3)"
   ]
  },
  {
   "cell_type": "code",
   "execution_count": 34,
   "id": "af336d5c",
   "metadata": {},
   "outputs": [
    {
     "name": "stdout",
     "output_type": "stream",
     "text": [
      "{1, 2, 3}\n"
     ]
    }
   ],
   "source": [
    "set1={1,2,3,3}\n",
    "print(set1)\n"
   ]
  },
  {
   "cell_type": "code",
   "execution_count": 54,
   "id": "0da4397c",
   "metadata": {},
   "outputs": [
    {
     "name": "stdout",
     "output_type": "stream",
     "text": [
      "{1, 2, 3, 33, 44, 45, 22}\n"
     ]
    }
   ],
   "source": [
    "set1.add(45)\n",
    "print(set1)"
   ]
  },
  {
   "cell_type": "code",
   "execution_count": 55,
   "id": "9575d1ad",
   "metadata": {},
   "outputs": [
    {
     "name": "stdout",
     "output_type": "stream",
     "text": [
      "{1, 2, 3, 33, 44, 45, 22}\n"
     ]
    }
   ],
   "source": [
    "set1.update([22,33,44])\n",
    "print(set1)"
   ]
  },
  {
   "cell_type": "code",
   "execution_count": 56,
   "id": "d97ac0c5",
   "metadata": {},
   "outputs": [
    {
     "name": "stdout",
     "output_type": "stream",
     "text": [
      "{1, 2, 3, 33, 44, 45, 22}\n",
      "{1, 2, 3, 33, 44, 22}\n"
     ]
    }
   ],
   "source": [
    "# set1.remove(44)\n",
    "#remove returns error if element not present whereas discard doesn't\n",
    "print(set1)\n",
    "set1.remove(45)\n",
    "set1.discard(55)\n",
    "print(set1)"
   ]
  },
  {
   "cell_type": "code",
   "execution_count": 62,
   "id": "05dc1fc0",
   "metadata": {},
   "outputs": [
    {
     "name": "stdout",
     "output_type": "stream",
     "text": [
      "{33, 66, 22, 55, 11, 44}\n",
      "{33, 66, 22, 55, 11, 44}\n"
     ]
    }
   ],
   "source": [
    "# merging two sets\n",
    "s1={11,22,33}\n",
    "s2={55,66,66,33,44}\n",
    "print(s1.union(s2))\n",
    "# or\n",
    "print(s1|s2)\n"
   ]
  },
  {
   "cell_type": "code",
   "execution_count": 66,
   "id": "3b47b611",
   "metadata": {},
   "outputs": [
    {
     "name": "stdout",
     "output_type": "stream",
     "text": [
      "{1, 4}\n",
      "{1, 4}\n"
     ]
    }
   ],
   "source": [
    "# intersection \n",
    "s12={1,2,3,4,4}\n",
    "s13={'a','d','r',1,4}\n",
    "ss={2,4,1}\n",
    "\n",
    "print(s12&s13&ss)\n",
    "# or\n",
    "print(s12.intersection(s13,ss))\n",
    "        \n"
   ]
  },
  {
   "cell_type": "code",
   "execution_count": 69,
   "id": "387115ab",
   "metadata": {},
   "outputs": [
    {
     "name": "stdout",
     "output_type": "stream",
     "text": [
      "{4, 5}\n",
      "{4, 5, 7, 8}\n"
     ]
    }
   ],
   "source": [
    "a={1,2,3,4,5}\n",
    "b={1,2,3,7,8}\n",
    "\n",
    "print(a-b)#returns the elmnt in a that was not in b\n",
    "print(a^b)#returns the elents in a and b except he common ones"
   ]
  },
  {
   "cell_type": "code",
   "execution_count": 70,
   "id": "703e953d",
   "metadata": {},
   "outputs": [
    {
     "name": "stdout",
     "output_type": "stream",
     "text": [
      "[1, 2, 3, 4, 'a']\n"
     ]
    }
   ],
   "source": [
    "# list comprehension\n",
    "# copiying a list using compre....\n",
    "l1=[1,2,3,4,'a']\n",
    "l2=[i for i in l1]\n",
    "\n",
    "print(l2)"
   ]
  },
  {
   "cell_type": "code",
   "execution_count": 1,
   "id": "8e19010a",
   "metadata": {},
   "outputs": [
    {
     "name": "stdout",
     "output_type": "stream",
     "text": [
      "[(1, 1), (1, 2), (2, 1), (2, 2)]\n"
     ]
    }
   ],
   "source": [
    "n=[(a,b) for a in range(1,3) for b in range(1,3)]\n",
    "print(n)"
   ]
  },
  {
   "cell_type": "code",
   "execution_count": 4,
   "id": "3df29ff6",
   "metadata": {},
   "outputs": [
    {
     "name": "stdout",
     "output_type": "stream",
     "text": [
      "['Charles', 'Carol']\n",
      "['Charles', 'Carol']\n"
     ]
    }
   ],
   "source": [
    "names = ['Charles', 'Susan', 'Patrick', 'George', 'Carol']\n",
    "print([n for n in names if n[0]=='C'])\n",
    "# or\n",
    "print([n for n in names if n.startswith('C')])"
   ]
  },
  {
   "cell_type": "code",
   "execution_count": 6,
   "id": "b4d02cde",
   "metadata": {},
   "outputs": [
    {
     "name": "stdout",
     "output_type": "stream",
     "text": [
      "[2, 2, 6, 4, 10, 6]\n"
     ]
    }
   ],
   "source": [
    "nums = [1, 2, 3, 4, 5, 6]\n",
    "new_list=[n*2  if n%2!=0 else n for n in nums]\n",
    "print(new_list)"
   ]
  },
  {
   "cell_type": "code",
   "execution_count": 9,
   "id": "a4c18f84",
   "metadata": {},
   "outputs": [
    {
     "name": "stdout",
     "output_type": "stream",
     "text": [
      "{'ABC', 'DEF'}\n"
     ]
    }
   ],
   "source": [
    "b = {\"abc\", \"def\"}\n",
    "print({i.upper() for i in b})"
   ]
  },
  {
   "cell_type": "code",
   "execution_count": 20,
   "id": "39c305a7",
   "metadata": {},
   "outputs": [
    {
     "name": "stdout",
     "output_type": "stream",
     "text": [
      "{('name', 'LOST'), ('name', 'lost'), ('age', '5')}\n"
     ]
    }
   ],
   "source": [
    "c = {'name': 'lost', 'age': '5'}\n",
    "print({(v, k.upper()) if i % 2 == 0 else (v, k)  for v, k in c.items() for i in range(len(k))})\n"
   ]
  },
  {
   "cell_type": "code",
   "execution_count": 37,
   "id": "61c822a2",
   "metadata": {},
   "outputs": [
    {
     "name": "stdout",
     "output_type": "stream",
     "text": [
      "HeLlO WoRlD\n",
      "['H', 'e', 'L', 'l', 'O', ' ', 'W', 'o', 'R', 'l', 'D']\n",
      "['HeLlO ', 'oRlD']\n",
      "['He', 'lO WoRlD']\n"
     ]
    }
   ],
   "source": [
    "str='hello world'\n",
    "str1=[]\n",
    "# for i in str:\n",
    "#  str1.append(i) \n",
    "\n",
    "# for i in range(len(str1)):\n",
    "#     if i %2==0:\n",
    "#         str1[i]=str[i].upper()\n",
    "\n",
    "str1=[i for i in str]\n",
    "\n",
    "str1= [str[i].upper() if i%2==0 else str[i] for i in range(len(str1))]\n",
    "str=''.join(str1)\n",
    "\n",
    "print(str)\n",
    "print(str1)        \n",
    "print(str.split('W'))\n",
    "print(str.split('L'))"
   ]
  },
  {
   "cell_type": "code",
   "execution_count": 38,
   "id": "ba71d283",
   "metadata": {},
   "outputs": [
    {
     "name": "stdout",
     "output_type": "stream",
     "text": [
      "    Hello World     \n",
      "Hello World\n"
     ]
    }
   ],
   "source": [
    "spam = '    Hello World     '\n",
    "print(spam)\n",
    "print(spam.strip())"
   ]
  },
  {
   "cell_type": "code",
   "execution_count": 52,
   "id": "11bc4bd5",
   "metadata": {},
   "outputs": [
    {
     "name": "stdout",
     "output_type": "stream",
     "text": [
      "HelloWorld\n"
     ]
    }
   ],
   "source": [
    "s=''.join([i for i in spam if i!=' '])\n",
    "\n",
    "# for i in s:\n",
    "#     if i!=' ':\n",
    "#         s1.append(i)\n",
    "\n",
    "print(s)\n"
   ]
  },
  {
   "cell_type": "code",
   "execution_count": 55,
   "id": "2af48330",
   "metadata": {},
   "outputs": [
    {
     "name": "stdout",
     "output_type": "stream",
     "text": [
      "Hello World "
     ]
    }
   ],
   "source": [
    "str='hello world'\n",
    "\n",
    "s1=str.split()\n",
    "for i in s1:\n",
    "    print(i[0].upper()+i[1:],end=' ')"
   ]
  },
  {
   "cell_type": "code",
   "execution_count": 65,
   "id": "cfe04201",
   "metadata": {},
   "outputs": [
    {
     "name": "stdout",
     "output_type": "stream",
     "text": [
      "key2\n"
     ]
    }
   ],
   "source": [
    "d={'key1':'value1','key2':'value20'}\n",
    "\n",
    "max_val=None\n",
    "max_key=None\n",
    "\n",
    "for i,j in d.items():\n",
    "    if max_val is None or max_val < len(j):\n",
    "        max_val=len(j)\n",
    "        max_key=i\n",
    "        \n",
    "print(max_key)        "
   ]
  },
  {
   "cell_type": "code",
   "execution_count": 77,
   "id": "77e4c46d",
   "metadata": {},
   "outputs": [
    {
     "name": "stdout",
     "output_type": "stream",
     "text": [
      "[1, 4, 9, 16, 25, 36]\n",
      "[2, 4, 6]\n"
     ]
    }
   ],
   "source": [
    "l=[1,2,3,4,5,6]\n",
    "def sqr(l):\n",
    " return l*l\n",
    "\n",
    "l1=list(map(sqr,l))\n",
    "print(l1)\n",
    "\n",
    "def evn(l):\n",
    "   if l%2==0 :\n",
    "    return l\n",
    "print(list(filter(evn,l)))"
   ]
  },
  {
   "cell_type": "code",
   "execution_count": 87,
   "id": "e7110760",
   "metadata": {},
   "outputs": [
    {
     "data": {
      "text/plain": [
       "'Palindrome'"
      ]
     },
     "execution_count": 87,
     "metadata": {},
     "output_type": "execute_result"
    }
   ],
   "source": [
    "#palindrome\n",
    "str='racecar'\n",
    "\n",
    "\n",
    "def pal(str):\n",
    "    l,h=0,len(str)-1\n",
    "    while l<h:\n",
    "         if str[l]!=str[h]:\n",
    "            return \"Not a palindrome\"\n",
    "         l+=1\n",
    "         h-=1\n",
    "    return \"Palindrome\"\n",
    "\n",
    "pal(str)"
   ]
  },
  {
   "cell_type": "code",
   "execution_count": 93,
   "id": "108af941",
   "metadata": {},
   "outputs": [
    {
     "name": "stdout",
     "output_type": "stream",
     "text": [
      "{'apple': 'red', 'banana': 'yellow', 'cherry': 'red'}\n",
      "{'apple': 'red', 'banana': 'red', 'cherry': 'red'}\n"
     ]
    }
   ],
   "source": [
    "fruits = [\"apple\", \"banana\", \"cherry\"]\n",
    "colors = [\"red\", \"yellow\", \"red\"]\n",
    "\n",
    "dict1={f:c for f,c in zip(fruits,colors)}\n",
    "\n",
    "dict={f: c for f in fruits for c in colors}\n",
    "\n",
    "print(dict1)\n",
    "print(dict)"
   ]
  },
  {
   "cell_type": "code",
   "execution_count": 94,
   "id": "1f04e97c",
   "metadata": {},
   "outputs": [
    {
     "name": "stdout",
     "output_type": "stream",
     "text": [
      "{1: 1, 2: 4, 3: 9, 4: 16, 5: 25}\n"
     ]
    }
   ],
   "source": [
    "evn={x:x**2 for x in range(1,6)}\n",
    "print(evn)"
   ]
  },
  {
   "cell_type": "code",
   "execution_count": null,
   "id": "7bed52b4",
   "metadata": {},
   "outputs": [],
   "source": []
  }
 ],
 "metadata": {
  "kernelspec": {
   "display_name": "Python 3 (ipykernel)",
   "language": "python",
   "name": "python3"
  },
  "language_info": {
   "codemirror_mode": {
    "name": "ipython",
    "version": 3
   },
   "file_extension": ".py",
   "mimetype": "text/x-python",
   "name": "python",
   "nbconvert_exporter": "python",
   "pygments_lexer": "ipython3",
   "version": "3.11.5"
  }
 },
 "nbformat": 4,
 "nbformat_minor": 5
}
