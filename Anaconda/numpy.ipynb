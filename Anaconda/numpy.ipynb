{
 "cells": [
  {
   "cell_type": "code",
   "execution_count": 2,
   "id": "af4a36d9",
   "metadata": {
    "scrolled": true
   },
   "outputs": [
    {
     "name": "stdout",
     "output_type": "stream",
     "text": [
      "Sample 2\n"
     ]
    }
   ],
   "source": [
    "print(\"Sample 2\")"
   ]
  },
  {
   "cell_type": "code",
   "execution_count": 3,
   "id": "b33842dd",
   "metadata": {},
   "outputs": [],
   "source": [
    "import numpy as np"
   ]
  },
  {
   "cell_type": "code",
   "execution_count": 5,
   "id": "2080b358",
   "metadata": {},
   "outputs": [
    {
     "name": "stdout",
     "output_type": "stream",
     "text": [
      "[[1 2 3]\n",
      " [4 5 6]\n",
      " [7 8 9]]\n"
     ]
    }
   ],
   "source": [
    "a1=np.array([[1,2,3],[4,5,6],[7,8,9]])\n",
    "print(a1)"
   ]
  },
  {
   "cell_type": "code",
   "execution_count": 6,
   "id": "7ea52b5d",
   "metadata": {},
   "outputs": [
    {
     "name": "stdout",
     "output_type": "stream",
     "text": [
      "[[ 2  3  4]\n",
      " [ 5  6  7]\n",
      " [ 8  9 10]]\n"
     ]
    }
   ],
   "source": [
    "a2=np.array([[1,1,1],[1,1,1],[1,1,1]])\n",
    "print(a1+a2)"
   ]
  },
  {
   "cell_type": "code",
   "execution_count": 7,
   "id": "67dbad9a",
   "metadata": {},
   "outputs": [
    {
     "name": "stdout",
     "output_type": "stream",
     "text": [
      "(3, 3)\n"
     ]
    }
   ],
   "source": [
    "print(a1.shape)"
   ]
  },
  {
   "cell_type": "code",
   "execution_count": 9,
   "id": "89243b7e",
   "metadata": {},
   "outputs": [
    {
     "name": "stdout",
     "output_type": "stream",
     "text": [
      "(3, 3)\n"
     ]
    }
   ],
   "source": [
    "print((a1+a2).shape)"
   ]
  },
  {
   "cell_type": "code",
   "execution_count": 12,
   "id": "6f79ae80",
   "metadata": {},
   "outputs": [
    {
     "name": "stdout",
     "output_type": "stream",
     "text": [
      "[[1 2 3]\n",
      " [4 5 6]]\n",
      "(2, 3)\n"
     ]
    }
   ],
   "source": [
    "a3=np.array([[1,2,3],[4,5,6]])\n",
    "print(a3)\n",
    "print(a3.shape)"
   ]
  },
  {
   "cell_type": "code",
   "execution_count": 13,
   "id": "071c19ba",
   "metadata": {},
   "outputs": [
    {
     "name": "stdout",
     "output_type": "stream",
     "text": [
      "1\n",
      "5\n"
     ]
    }
   ],
   "source": [
    "for i in range(len(a3)):\n",
    "    for j in range(len(a3[0])):\n",
    "        if i == n:\n",
    "            print(a3[i][j])\n",
    "            \n",
    "    "
   ]
  },
  {
   "cell_type": "code",
   "execution_count": 19,
   "id": "a6d193cb",
   "metadata": {},
   "outputs": [
    {
     "name": "stdout",
     "output_type": "stream",
     "text": [
      "[[ 3  6  9]\n",
      " [ 6 12 18]\n",
      " [ 9 18 27]]\n"
     ]
    }
   ],
   "source": [
    "ar1=np.array([[1,1,1],[2,2,2],[3,3,3]])\n",
    "ar2=np.array([[1,2,3],[1,2,3],[1,2,3]])\n",
    "ar3=np.matmul(ar1,ar2)\n",
    "print(ar3)"
   ]
  },
  {
   "cell_type": "code",
   "execution_count": 22,
   "id": "bb4a06d6",
   "metadata": {},
   "outputs": [
    {
     "name": "stdout",
     "output_type": "stream",
     "text": [
      "108\n",
      "18\n"
     ]
    }
   ],
   "source": [
    "print(np.sum(ar3))\n",
    "print(np.sum(ar1))"
   ]
  },
  {
   "cell_type": "code",
   "execution_count": 97,
   "id": "f5c3ec66",
   "metadata": {},
   "outputs": [
    {
     "name": "stdout",
     "output_type": "stream",
     "text": [
      "36\n"
     ]
    }
   ],
   "source": [
    "print(np.sum(ar3[1]))"
   ]
  },
  {
   "cell_type": "code",
   "execution_count": 99,
   "id": "28f6cbc0",
   "metadata": {},
   "outputs": [
    {
     "name": "stdout",
     "output_type": "stream",
     "text": [
      "[[[0.75245994 0.20695756]\n",
      "  [0.94780147 0.950846  ]\n",
      "  [0.88258407 0.19117781]\n",
      "  [0.13395626 0.68124064]]\n",
      "\n",
      " [[0.71506318 0.30893842]\n",
      "  [0.86779661 0.20938335]\n",
      "  [0.38315998 0.19008053]\n",
      "  [0.75872126 0.989748  ]]\n",
      "\n",
      " [[0.46231058 0.29503068]\n",
      "  [0.72094888 0.74866868]\n",
      "  [0.47729167 0.86494642]\n",
      "  [0.3546864  0.25945596]]]\n"
     ]
    }
   ],
   "source": [
    "#random matrix with dimension given in ()\n",
    "b=np.random.rand(3,4,2)\n",
    "print(b)"
   ]
  },
  {
   "cell_type": "code",
   "execution_count": 45,
   "id": "40bee95a",
   "metadata": {},
   "outputs": [
    {
     "name": "stdout",
     "output_type": "stream",
     "text": [
      "[[[[0.75165074 0.82853674]\n",
      "   [0.43437929 0.84472934]\n",
      "   [0.48021252 0.67900969]]\n",
      "\n",
      "  [[1.60099262 1.6872776 ]\n",
      "   [1.24169383 1.846065  ]\n",
      "   [1.23875409 1.60921025]]]\n",
      "\n",
      "\n",
      " [[[0.8221844  0.76899113]\n",
      "   [0.74416274 0.91776709]\n",
      "   [0.70571709 0.83692633]]\n",
      "\n",
      "  [[1.07240275 0.94850849]\n",
      "   [0.81312973 1.11380259]\n",
      "   [0.80899774 0.95280775]]]\n",
      "\n",
      "\n",
      " [[[1.06306718 0.84141431]\n",
      "   [0.90005873 1.06915742]\n",
      "   [0.86280444 0.94588305]]\n",
      "\n",
      "  [[0.27721004 0.36922452]\n",
      "   [0.30751927 0.39758881]\n",
      "   [0.28193412 0.38812455]]]]\n",
      "----------------\n",
      "[[[0.75165074 0.82853674]\n",
      "  [1.60099262 1.6872776 ]]\n",
      "\n",
      " [[0.74416274 0.91776709]\n",
      "  [0.81312973 1.11380259]]\n",
      "\n",
      " [[0.86280444 0.94588305]\n",
      "  [0.28193412 0.38812455]]]\n"
     ]
    }
   ],
   "source": [
    "b = np.random.rand(3,3,2)\n",
    "a=np.random.rand(3,2,3)\n",
    "print(np.dot(a,b))\n",
    "print(\"----------------\")\n",
    "print(np.matmul(a,b))"
   ]
  },
  {
   "cell_type": "code",
   "execution_count": 46,
   "id": "a3bf8a14",
   "metadata": {},
   "outputs": [],
   "source": [
    "q=np.array([2,2,2])\n"
   ]
  },
  {
   "cell_type": "code",
   "execution_count": 47,
   "id": "24e52cef",
   "metadata": {},
   "outputs": [
    {
     "name": "stdout",
     "output_type": "stream",
     "text": [
      "2.0\n"
     ]
    }
   ],
   "source": [
    "print(np.mean(q))"
   ]
  },
  {
   "cell_type": "code",
   "execution_count": 48,
   "id": "f61ad3ff",
   "metadata": {},
   "outputs": [
    {
     "name": "stdout",
     "output_type": "stream",
     "text": [
      "148.4131591025766\n"
     ]
    }
   ],
   "source": [
    "print(np.exp(5))"
   ]
  },
  {
   "cell_type": "code",
   "execution_count": 53,
   "id": "174456b0",
   "metadata": {},
   "outputs": [
    {
     "name": "stdout",
     "output_type": "stream",
     "text": [
      "['1' '2' '3' '5' '6' '7' 'm' 'm' 'm']\n",
      "(9,)\n"
     ]
    }
   ],
   "source": [
    "#flattening an array\n",
    "a=np.array([[1,2,3],[5,6,7],[\"m\",\"m\",\"m\"]])\n",
    "v=np.ndarray.flatten(a)\n",
    "print(v)\n",
    "print(v.shape)\n"
   ]
  },
  {
   "cell_type": "code",
   "execution_count": 58,
   "id": "9810c9a8",
   "metadata": {},
   "outputs": [
    {
     "name": "stdout",
     "output_type": "stream",
     "text": [
      "[ 5  7  9 11 13]\n"
     ]
    }
   ],
   "source": [
    "print(np.arange(5,15,2))"
   ]
  },
  {
   "cell_type": "code",
   "execution_count": 64,
   "id": "4f34b70c",
   "metadata": {},
   "outputs": [
    {
     "name": "stdout",
     "output_type": "stream",
     "text": [
      "[ 1  3  5  7  9 11]\n"
     ]
    }
   ],
   "source": [
    "a=np.arange(1,12,2)\n",
    "print(a)"
   ]
  },
  {
   "cell_type": "code",
   "execution_count": 70,
   "id": "82d5e007",
   "metadata": {},
   "outputs": [
    {
     "name": "stdout",
     "output_type": "stream",
     "text": [
      "[[ 1  3  5]\n",
      " [ 7  9 11]]\n"
     ]
    }
   ],
   "source": [
    "a2d=a.reshape(2,3)\n",
    "print(a2d)"
   ]
  },
  {
   "cell_type": "code",
   "execution_count": 71,
   "id": "aa008f28",
   "metadata": {},
   "outputs": [
    {
     "data": {
      "text/plain": [
       "array([ 1,  3,  5,  7,  9, 11])"
      ]
     },
     "execution_count": 71,
     "metadata": {},
     "output_type": "execute_result"
    }
   ],
   "source": [
    "np.sort(a)"
   ]
  },
  {
   "cell_type": "code",
   "execution_count": 86,
   "id": "4e90ef54",
   "metadata": {},
   "outputs": [
    {
     "name": "stdout",
     "output_type": "stream",
     "text": [
      "7\n",
      "-6\n",
      "[1 2 3 4 5 6 7]\n"
     ]
    },
    {
     "data": {
      "text/plain": [
       "array([-6, -4,  1,  2,  3,  5,  7])"
      ]
     },
     "execution_count": 86,
     "metadata": {},
     "output_type": "execute_result"
    }
   ],
   "source": [
    "arr=np.array([1,2,3,-4,5,-6,7])\n",
    "print(np.max(arr))\n",
    "print(np.min(arr))\n",
    "print(np.abs(arr))\n",
    "np.sort(arr)"
   ]
  },
  {
   "cell_type": "code",
   "execution_count": 100,
   "id": "a91a705c",
   "metadata": {},
   "outputs": [
    {
     "name": "stdout",
     "output_type": "stream",
     "text": [
      "[[0. 0.]\n",
      " [0. 0.]\n",
      " [0. 0.]]\n",
      "---------------\n",
      "[[1. 1.]\n",
      " [1. 1.]\n",
      " [1. 1.]]\n"
     ]
    }
   ],
   "source": [
    "print(np.zeros((3,2)))\n",
    "print(\"---------------\")\n",
    "print(np.ones((3,2)))"
   ]
  },
  {
   "cell_type": "code",
   "execution_count": 101,
   "id": "da7851c2",
   "metadata": {},
   "outputs": [
    {
     "name": "stdout",
     "output_type": "stream",
     "text": [
      "[[3 3 3 3]\n",
      " [3 3 3 3]\n",
      " [3 3 3 3]\n",
      " [3 3 3 3]]\n"
     ]
    }
   ],
   "source": [
    "#array of n-dimension with same value\n",
    "print(np.full((4,4),fill_value=3))"
   ]
  },
  {
   "cell_type": "code",
   "execution_count": 79,
   "id": "a15d5bad",
   "metadata": {},
   "outputs": [
    {
     "name": "stdout",
     "output_type": "stream",
     "text": [
      "[[1. 0. 0. 0.]\n",
      " [0. 1. 0. 0.]\n",
      " [0. 0. 1. 0.]\n",
      " [0. 0. 0. 1.]]\n"
     ]
    }
   ],
   "source": [
    "#identity matrix\n",
    "print(np.identity(4))"
   ]
  },
  {
   "cell_type": "code",
   "execution_count": 84,
   "id": "4db237c3",
   "metadata": {},
   "outputs": [
    {
     "name": "stdout",
     "output_type": "stream",
     "text": [
      "[1 2 3]\n"
     ]
    }
   ],
   "source": [
    "ar=np.array([[1],[2],[3]])\n",
    "print(np.squeeze(ar))"
   ]
  },
  {
   "cell_type": "code",
   "execution_count": 87,
   "id": "e5aa683b",
   "metadata": {},
   "outputs": [
    {
     "name": "stdout",
     "output_type": "stream",
     "text": [
      "[ 1  2  3 -4  5 -6  7]\n"
     ]
    }
   ],
   "source": [
    "print(arr)"
   ]
  },
  {
   "cell_type": "code",
   "execution_count": 91,
   "id": "f8f2d4d3",
   "metadata": {},
   "outputs": [
    {
     "name": "stdout",
     "output_type": "stream",
     "text": [
      "6\n",
      "5\n",
      "[-6 -4  1  2  3  5  7]\n"
     ]
    }
   ],
   "source": [
    "a=np.sort(arr)\n",
    "print(np.argmax(arr))\n",
    "print(np.argmin(arr))\n",
    "print(a)"
   ]
  },
  {
   "cell_type": "code",
   "execution_count": 92,
   "id": "e5e518dc",
   "metadata": {},
   "outputs": [
    {
     "name": "stdout",
     "output_type": "stream",
     "text": [
      "[[0]\n",
      " [1]\n",
      " [2]\n",
      " [3]\n",
      " [4]\n",
      " [5]\n",
      " [6]]\n"
     ]
    }
   ],
   "source": [
    "print(np.argwhere(arr))"
   ]
  },
  {
   "cell_type": "code",
   "execution_count": 96,
   "id": "e67d8830",
   "metadata": {},
   "outputs": [
    {
     "name": "stdout",
     "output_type": "stream",
     "text": [
      "[[0.68564682 0.2674864  0.46169718]\n",
      " [0.01644922 0.3558263  0.34053813]]\n"
     ]
    }
   ],
   "source": [
    "random_arr=np.random.rand(2,3)\n",
    "print(random_arr)"
   ]
  },
  {
   "cell_type": "code",
   "execution_count": null,
   "id": "f970c4fc",
   "metadata": {},
   "outputs": [],
   "source": [
    "print(random_arr)"
   ]
  }
 ],
 "metadata": {
  "kernelspec": {
   "display_name": "Python 3 (ipykernel)",
   "language": "python",
   "name": "python3"
  },
  "language_info": {
   "codemirror_mode": {
    "name": "ipython",
    "version": 3
   },
   "file_extension": ".py",
   "mimetype": "text/x-python",
   "name": "python",
   "nbconvert_exporter": "python",
   "pygments_lexer": "ipython3",
   "version": "3.11.5"
  }
 },
 "nbformat": 4,
 "nbformat_minor": 5
}
